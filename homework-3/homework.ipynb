{
 "cells": [
  {
   "cell_type": "code",
   "execution_count": 1,
   "id": "acff802a-09d2-4197-beb4-92d67f17f6d0",
   "metadata": {},
   "outputs": [],
   "source": [
    "# Dataset"
   ]
  },
  {
   "cell_type": "code",
   "execution_count": 2,
   "id": "d2648c8a-2bc4-40e9-849d-20fa5d13d753",
   "metadata": {},
   "outputs": [],
   "source": [
    "import os, zipfile, wget"
   ]
  },
  {
   "cell_type": "code",
   "execution_count": 6,
   "id": "6436ca1c-4e54-4fdd-86a3-89d881b6d47f",
   "metadata": {},
   "outputs": [
    {
     "name": "stdout",
     "output_type": "stream",
     "text": [
      "-1 / unknown"
     ]
    }
   ],
   "source": [
    "URL = 'https://archive.ics.uci.edu/static/public/222/bank+marketing.zip'\n",
    "ZIP_FILE = 'bank+marketing.zip'\n",
    "\n",
    "if not os.path.exists(ZIP_FILE):\n",
    "    wget.download(URL)\n",
    "\n",
    "with zipfile.ZipFile(ZIP_FILE, 'r') as zip_ref:\n",
    "    zip_ref.extractall()"
   ]
  }
 ],
 "metadata": {
  "kernelspec": {
   "display_name": "Python 3 (ipykernel)",
   "language": "python",
   "name": "python3"
  },
  "language_info": {
   "codemirror_mode": {
    "name": "ipython",
    "version": 3
   },
   "file_extension": ".py",
   "mimetype": "text/x-python",
   "name": "python",
   "nbconvert_exporter": "python",
   "pygments_lexer": "ipython3",
   "version": "3.12.1"
  }
 },
 "nbformat": 4,
 "nbformat_minor": 5
}
