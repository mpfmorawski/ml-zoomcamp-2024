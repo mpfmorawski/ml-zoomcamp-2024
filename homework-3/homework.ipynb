{
 "cells": [
  {
   "cell_type": "code",
   "execution_count": 17,
   "id": "acff802a-09d2-4197-beb4-92d67f17f6d0",
   "metadata": {},
   "outputs": [],
   "source": [
    "# Dataset"
   ]
  },
  {
   "cell_type": "code",
   "execution_count": 18,
   "id": "d2648c8a-2bc4-40e9-849d-20fa5d13d753",
   "metadata": {},
   "outputs": [],
   "source": [
    "import os, zipfile, requests"
   ]
  },
  {
   "cell_type": "code",
   "execution_count": 19,
   "id": "6436ca1c-4e54-4fdd-86a3-89d881b6d47f",
   "metadata": {},
   "outputs": [
    {
     "name": "stdout",
     "output_type": "stream",
     "text": [
      "Downloading bank-full.csv file...\n"
     ]
    },
    {
     "ename": "FileNotFoundError",
     "evalue": "[Errno 2] No such file or directory: 'bank+marketing.zip'",
     "output_type": "error",
     "traceback": [
      "\u001b[0;31m---------------------------------------------------------------------------\u001b[0m",
      "\u001b[0;31mFileNotFoundError\u001b[0m                         Traceback (most recent call last)",
      "Cell \u001b[0;32mIn[19], line 4\u001b[0m\n\u001b[1;32m      2\u001b[0m \u001b[38;5;28mprint\u001b[39m(\u001b[38;5;124m\"\u001b[39m\u001b[38;5;124mDownloading bank-full.csv file...\u001b[39m\u001b[38;5;124m\"\u001b[39m)\n\u001b[1;32m      3\u001b[0m requests\u001b[38;5;241m.\u001b[39mget(\u001b[38;5;124m\"\u001b[39m\u001b[38;5;124mhttps://archive.ics.uci.edu/static/public/222/bank+marketing.zip\u001b[39m\u001b[38;5;124m\"\u001b[39m)\n\u001b[0;32m----> 4\u001b[0m \u001b[38;5;28;01mwith\u001b[39;00m \u001b[43mzipfile\u001b[49m\u001b[38;5;241;43m.\u001b[39;49m\u001b[43mZipFile\u001b[49m\u001b[43m(\u001b[49m\u001b[38;5;124;43m\"\u001b[39;49m\u001b[38;5;124;43mbank+marketing.zip\u001b[39;49m\u001b[38;5;124;43m\"\u001b[39;49m\u001b[43m,\u001b[49m\u001b[43m \u001b[49m\u001b[38;5;124;43m\"\u001b[39;49m\u001b[38;5;124;43mr\u001b[39;49m\u001b[38;5;124;43m\"\u001b[39;49m\u001b[43m)\u001b[49m \u001b[38;5;28;01mas\u001b[39;00m zip_file:\n\u001b[1;32m      5\u001b[0m     zip_file\u001b[38;5;241m.\u001b[39mextractall()\n\u001b[1;32m      6\u001b[0m \u001b[38;5;28;01mwith\u001b[39;00m zipfile\u001b[38;5;241m.\u001b[39mZipFile(\u001b[38;5;124m\"\u001b[39m\u001b[38;5;124mbank.zip\u001b[39m\u001b[38;5;124m\"\u001b[39m, \u001b[38;5;124m\"\u001b[39m\u001b[38;5;124mr\u001b[39m\u001b[38;5;124m\"\u001b[39m) \u001b[38;5;28;01mas\u001b[39;00m zip_file:\n",
      "File \u001b[0;32m/usr/local/python/3.12.1/lib/python3.12/zipfile/__init__.py:1321\u001b[0m, in \u001b[0;36mZipFile.__init__\u001b[0;34m(self, file, mode, compression, allowZip64, compresslevel, strict_timestamps, metadata_encoding)\u001b[0m\n\u001b[1;32m   1319\u001b[0m \u001b[38;5;28;01mwhile\u001b[39;00m \u001b[38;5;28;01mTrue\u001b[39;00m:\n\u001b[1;32m   1320\u001b[0m     \u001b[38;5;28;01mtry\u001b[39;00m:\n\u001b[0;32m-> 1321\u001b[0m         \u001b[38;5;28mself\u001b[39m\u001b[38;5;241m.\u001b[39mfp \u001b[38;5;241m=\u001b[39m \u001b[43mio\u001b[49m\u001b[38;5;241;43m.\u001b[39;49m\u001b[43mopen\u001b[49m\u001b[43m(\u001b[49m\u001b[43mfile\u001b[49m\u001b[43m,\u001b[49m\u001b[43m \u001b[49m\u001b[43mfilemode\u001b[49m\u001b[43m)\u001b[49m\n\u001b[1;32m   1322\u001b[0m     \u001b[38;5;28;01mexcept\u001b[39;00m \u001b[38;5;167;01mOSError\u001b[39;00m:\n\u001b[1;32m   1323\u001b[0m         \u001b[38;5;28;01mif\u001b[39;00m filemode \u001b[38;5;129;01min\u001b[39;00m modeDict:\n",
      "\u001b[0;31mFileNotFoundError\u001b[0m: [Errno 2] No such file or directory: 'bank+marketing.zip'"
     ]
    }
   ],
   "source": [
    "if not os.path.exists(\"bank-full.csv\"):\n",
    "    print(\"Downloading bank-full.csv file...\")\n",
    "    response = requests.get(\"https://archive.ics.uci.edu/static/public/222/bank+marketing.zip\")\n",
    "    with open(\"bank+marketing.zip\", 'wb') as zip_file:\n",
    "        zip_file.write(response.content)\n",
    "    with zipfile.ZipFile(\"bank+marketing.zip\", \"r\") as zip_file:\n",
    "        zip_file.extractall()\n",
    "    with zipfile.ZipFile(\"bank.zip\", \"r\") as zip_file:\n",
    "        zip_file.extractall()\n",
    "    for file in [\n",
    "        \"bank+marketing.zip\",\n",
    "        \"bank.zip\",\n",
    "        \"bank-additional.zip\",\n",
    "        \"bank.csv\",\n",
    "        \"bank-names.txt\",\n",
    "    ]:\n",
    "        os.remove(file)\n",
    "    print(\"bank-full.csv was downloaded successfully.\")\n",
    "    \n",
    "else:\n",
    "    print(\"bank-full.csv is already downloaded.\")\n",
    "    \n",
    "        "
   ]
  },
  {
   "cell_type": "code",
   "execution_count": 11,
   "id": "e40916bb-0a3f-4b85-9d3a-797e656f5b0c",
   "metadata": {},
   "outputs": [
    {
     "name": "stdout",
     "output_type": "stream",
     "text": [
      "Help on method extractall in module zipfile:\n",
      "\n",
      "extractall(path=None, members=None, pwd=None) method of zipfile.ZipFile instance\n",
      "    Extract all members from the archive to the current working\n",
      "    directory. `path' specifies a different directory to extract to.\n",
      "    `members' is optional and must be a subset of the list returned\n",
      "    by namelist().\n",
      "\n"
     ]
    }
   ],
   "source": [
    "help(zipfile.ZipFile(\"bank.zip\").extractall)"
   ]
  }
 ],
 "metadata": {
  "kernelspec": {
   "display_name": "Python 3 (ipykernel)",
   "language": "python",
   "name": "python3"
  },
  "language_info": {
   "codemirror_mode": {
    "name": "ipython",
    "version": 3
   },
   "file_extension": ".py",
   "mimetype": "text/x-python",
   "name": "python",
   "nbconvert_exporter": "python",
   "pygments_lexer": "ipython3",
   "version": "3.12.1"
  }
 },
 "nbformat": 4,
 "nbformat_minor": 5
}
