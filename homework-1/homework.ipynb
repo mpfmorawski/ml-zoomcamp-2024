{
 "cells": [
  {
   "cell_type": "code",
   "execution_count": 1,
   "id": "15e9ca0a-4986-4e88-939d-14672f81cfac",
   "metadata": {},
   "outputs": [],
   "source": [
    "# Q1. Pandas version"
   ]
  },
  {
   "cell_type": "code",
   "execution_count": 2,
   "id": "357df727-82e7-43d5-ac14-73a3b6b8dc1e",
   "metadata": {},
   "outputs": [],
   "source": [
    "import pandas as pd"
   ]
  },
  {
   "cell_type": "code",
   "execution_count": 3,
   "id": "a1af6629-ce9e-4035-b685-fe0330d67068",
   "metadata": {},
   "outputs": [
    {
     "data": {
      "text/plain": [
       "'2.2.3'"
      ]
     },
     "execution_count": 3,
     "metadata": {},
     "output_type": "execute_result"
    }
   ],
   "source": [
    "pd.__version__"
   ]
  },
  {
   "cell_type": "code",
   "execution_count": 4,
   "id": "81ff6d7b-2e44-4b75-9341-fdaf0bd53e4d",
   "metadata": {},
   "outputs": [],
   "source": [
    "# Getting the data"
   ]
  },
  {
   "cell_type": "code",
   "execution_count": null,
   "id": "598b14bc-bfe6-47a7-a838-8f88dadf0555",
   "metadata": {
    "scrolled": true
   },
   "outputs": [],
   "source": [
    "!wget https://raw.githubusercontent.com/alexeygrigorev/datasets/master/laptops.csv"
   ]
  },
  {
   "cell_type": "code",
   "execution_count": 6,
   "id": "78960480-25d7-41d5-8c8c-a43ec0292745",
   "metadata": {},
   "outputs": [],
   "source": [
    "df = pd.read_csv('laptops.csv')"
   ]
  },
  {
   "cell_type": "code",
   "execution_count": 7,
   "id": "9e8e5f46-42d0-4f3b-a2f3-6b920a411119",
   "metadata": {},
   "outputs": [],
   "source": [
    "# Q2. Records count"
   ]
  },
  {
   "cell_type": "code",
   "execution_count": 8,
   "id": "35c68d50-5199-4535-a0eb-d96ed0d3435a",
   "metadata": {},
   "outputs": [
    {
     "data": {
      "text/plain": [
       "2160"
      ]
     },
     "execution_count": 8,
     "metadata": {},
     "output_type": "execute_result"
    }
   ],
   "source": [
    "len(df)"
   ]
  },
  {
   "cell_type": "code",
   "execution_count": 9,
   "id": "2a9c828a-0e94-41bd-b518-6f5e0f38907f",
   "metadata": {},
   "outputs": [
    {
     "data": {
      "text/plain": [
       "2160"
      ]
     },
     "execution_count": 9,
     "metadata": {},
     "output_type": "execute_result"
    }
   ],
   "source": [
    "df.shape[0]"
   ]
  },
  {
   "cell_type": "code",
   "execution_count": 10,
   "id": "3b6ecb28-da29-43c0-b54f-c7288a613baa",
   "metadata": {},
   "outputs": [],
   "source": [
    "# Q3. Laptop brands"
   ]
  },
  {
   "cell_type": "code",
   "execution_count": 11,
   "id": "b2ce8972-4ba3-4ce0-ab66-83b3a75e3045",
   "metadata": {},
   "outputs": [
    {
     "data": {
      "text/plain": [
       "27"
      ]
     },
     "execution_count": 11,
     "metadata": {},
     "output_type": "execute_result"
    }
   ],
   "source": [
    "int(df.nunique()[\"Brand\"])"
   ]
  },
  {
   "cell_type": "code",
   "execution_count": 12,
   "id": "b73151cc-7b39-43d5-8bf9-0c1220cf24c6",
   "metadata": {},
   "outputs": [],
   "source": [
    "# Q4. Missing values"
   ]
  },
  {
   "cell_type": "code",
   "execution_count": 13,
   "id": "68c2164d-f52e-4bcb-92c9-3898b785f6e8",
   "metadata": {},
   "outputs": [
    {
     "data": {
      "text/plain": [
       "3"
      ]
     },
     "execution_count": 13,
     "metadata": {},
     "output_type": "execute_result"
    }
   ],
   "source": [
    "sum(df.isnull().sum() > 0)"
   ]
  },
  {
   "cell_type": "code",
   "execution_count": 14,
   "id": "3823a977-3c00-4e1c-9dc3-d6f37d088e02",
   "metadata": {},
   "outputs": [],
   "source": [
    "# Q5. Maximum final price"
   ]
  },
  {
   "cell_type": "code",
   "execution_count": 15,
   "id": "3b3e0c62-97ef-424d-b563-0f76c03b89fe",
   "metadata": {},
   "outputs": [
    {
     "data": {
      "text/plain": [
       "3936"
      ]
     },
     "execution_count": 15,
     "metadata": {},
     "output_type": "execute_result"
    }
   ],
   "source": [
    "int(df[df[\"Brand\"] == \"Dell\"][\"Final Price\"].max())"
   ]
  },
  {
   "cell_type": "code",
   "execution_count": 16,
   "id": "d6e35362-8116-4280-b57d-3e3f168d9f68",
   "metadata": {},
   "outputs": [],
   "source": [
    "# Q6. Median value of Screen"
   ]
  },
  {
   "cell_type": "code",
   "execution_count": 17,
   "id": "d1fa578d-ac55-4bcb-8efa-a518cb06133d",
   "metadata": {},
   "outputs": [
    {
     "data": {
      "text/plain": [
       "np.float64(15.6)"
      ]
     },
     "execution_count": 17,
     "metadata": {},
     "output_type": "execute_result"
    }
   ],
   "source": [
    "median_before_filling = df[\"Screen\"].median()\n",
    "median_before_filling"
   ]
  },
  {
   "cell_type": "code",
   "execution_count": 18,
   "id": "6c351bc0-7e15-402a-a376-f6f3da0bf36f",
   "metadata": {},
   "outputs": [
    {
     "data": {
      "text/plain": [
       "np.float64(15.6)"
      ]
     },
     "execution_count": 18,
     "metadata": {},
     "output_type": "execute_result"
    }
   ],
   "source": [
    "most_frequent_value_before_filling = df[\"Screen\"].mode()[0]\n",
    "most_frequent_value_before_filling"
   ]
  },
  {
   "cell_type": "code",
   "execution_count": 19,
   "id": "107dfe24-bb8a-443f-a2f4-2b429c4b50f3",
   "metadata": {},
   "outputs": [
    {
     "data": {
      "text/plain": [
       "np.int64(0)"
      ]
     },
     "execution_count": 19,
     "metadata": {},
     "output_type": "execute_result"
    }
   ],
   "source": [
    "df[\"Screen\"] = df[\"Screen\"].fillna(most_frequent_value_before_filling)\n",
    "df[\"Screen\"].isnull().sum()"
   ]
  },
  {
   "cell_type": "code",
   "execution_count": 20,
   "id": "fb699502-88c7-417a-9ace-b0983cab21ee",
   "metadata": {},
   "outputs": [
    {
     "data": {
      "text/plain": [
       "'No'"
      ]
     },
     "execution_count": 20,
     "metadata": {},
     "output_type": "execute_result"
    }
   ],
   "source": [
    "median_after_filling = df[\"Screen\"].median()\n",
    "\"Yes\" if median_after_filling != median_before_filling else \"No\""
   ]
  },
  {
   "cell_type": "code",
   "execution_count": 21,
   "id": "2ad9d3f2-e93f-4ceb-9123-d80a05d08606",
   "metadata": {},
   "outputs": [],
   "source": [
    "# Q7. Sum of weights"
   ]
  },
  {
   "cell_type": "code",
   "execution_count": 22,
   "id": "0ca78e3d-88bf-46c4-b7f5-5da677e30f12",
   "metadata": {},
   "outputs": [],
   "source": [
    "import numpy as np"
   ]
  },
  {
   "cell_type": "code",
   "execution_count": 23,
   "id": "714ca0cd-8682-4615-9cff-6cfdf4798a5e",
   "metadata": {},
   "outputs": [
    {
     "data": {
      "text/plain": [
       "91.2998806299555"
      ]
     },
     "execution_count": 23,
     "metadata": {},
     "output_type": "execute_result"
    }
   ],
   "source": [
    "X = df[df[\"Brand\"] == \"Innjoo\"][[\"RAM\", \"Storage\", \"Screen\"]].to_numpy()\n",
    "XTX = (X.T).dot(X)\n",
    "XTX_inv = np.linalg.inv(XTX)\n",
    "y = np.array([1100, 1300, 800, 900, 1000, 1100])\n",
    "w = XTX_inv.dot(X.T).dot(y)\n",
    "float(w.sum())"
   ]
  }
 ],
 "metadata": {
  "kernelspec": {
   "display_name": "Python 3 (ipykernel)",
   "language": "python",
   "name": "python3"
  },
  "language_info": {
   "codemirror_mode": {
    "name": "ipython",
    "version": 3
   },
   "file_extension": ".py",
   "mimetype": "text/x-python",
   "name": "python",
   "nbconvert_exporter": "python",
   "pygments_lexer": "ipython3",
   "version": "3.12.1"
  }
 },
 "nbformat": 4,
 "nbformat_minor": 5
}
