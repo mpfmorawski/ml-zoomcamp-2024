{
 "cells": [
  {
   "cell_type": "code",
   "execution_count": 1,
   "id": "acff802a-09d2-4197-beb4-92d67f17f6d0",
   "metadata": {},
   "outputs": [],
   "source": [
    "# Dataset"
   ]
  },
  {
   "cell_type": "code",
   "execution_count": 2,
   "id": "d2648c8a-2bc4-40e9-849d-20fa5d13d753",
   "metadata": {},
   "outputs": [],
   "source": [
    "import os, zipfile, requests"
   ]
  },
  {
   "cell_type": "code",
   "execution_count": 3,
   "id": "6436ca1c-4e54-4fdd-86a3-89d881b6d47f",
   "metadata": {},
   "outputs": [
    {
     "name": "stdout",
     "output_type": "stream",
     "text": [
      "bank-full.csv is already downloaded.\n"
     ]
    }
   ],
   "source": [
    "if not os.path.exists(\"bank-full.csv\"):\n",
    "    print(\"Downloading bank-full.csv file...\")\n",
    "    response = requests.get(\"https://archive.ics.uci.edu/static/public/222/bank+marketing.zip\")\n",
    "    with open(\"bank+marketing.zip\", 'wb') as zip_file:\n",
    "        zip_file.write(response.content)\n",
    "    with zipfile.ZipFile(\"bank+marketing.zip\", \"r\") as zip_file:\n",
    "        zip_file.extractall()\n",
    "    with zipfile.ZipFile(\"bank.zip\", \"r\") as zip_file:\n",
    "        zip_file.extractall()\n",
    "    for file in [\n",
    "        \"bank+marketing.zip\",\n",
    "        \"bank.zip\",\n",
    "        \"bank-additional.zip\",\n",
    "        \"bank.csv\",\n",
    "        \"bank-names.txt\",\n",
    "    ]:\n",
    "        os.remove(file)\n",
    "    print(\"bank-full.csv was downloaded successfully.\")\n",
    "    \n",
    "else:\n",
    "    print(\"bank-full.csv is already downloaded.\")"
   ]
  },
  {
   "cell_type": "code",
   "execution_count": 4,
   "id": "7756c888-cf26-40ed-a513-1b91f3966ead",
   "metadata": {},
   "outputs": [],
   "source": [
    "# Dataset preparation"
   ]
  },
  {
   "cell_type": "code",
   "execution_count": 5,
   "id": "aa944c51-dcd7-494c-bba6-bf56d676973f",
   "metadata": {},
   "outputs": [],
   "source": [
    "import pandas as pd\n",
    "from sklearn.model_selection import train_test_split"
   ]
  },
  {
   "cell_type": "code",
   "execution_count": 6,
   "id": "89250d9c-612d-4f32-9527-bf057b5c0893",
   "metadata": {},
   "outputs": [],
   "source": [
    "df = pd.read_csv(\"bank-full.csv\", delimiter=\";\")\n",
    "df = df[[\n",
    "    \"age\",\n",
    "    \"job\",\n",
    "    \"marital\",\n",
    "    \"education\",\n",
    "    \"balance\",\n",
    "    \"housing\",\n",
    "    \"contact\",\n",
    "    \"day\",\n",
    "    \"month\",\n",
    "    \"duration\",\n",
    "    \"campaign\",\n",
    "    \"pdays\",\n",
    "    \"previous\",\n",
    "    \"poutcome\",\n",
    "    \"y\"\n",
    "]]\n",
    "df.y = (df.y == 'yes').astype(int)\n",
    "df_full_train, df_test = train_test_split(df, test_size=0.2, random_state=1)\n",
    "df_train, df_val = train_test_split(df_full_train, test_size=0.25, random_state=1)"
   ]
  },
  {
   "cell_type": "code",
   "execution_count": 7,
   "id": "16aa27f5-e3ce-4210-b1c2-f8ad307318e1",
   "metadata": {},
   "outputs": [],
   "source": [
    "df_train = df_train.reset_index(drop=True)\n",
    "df_val = df_val.reset_index(drop=True)\n",
    "df_test = df_test.reset_index(drop=True)\n",
    "\n",
    "y_train = df_train.y.values\n",
    "y_val = df_val.y.values\n",
    "y_test = df_test.y.values\n",
    "\n",
    "del df_train['y']\n",
    "del df_val['y']\n",
    "del df_test['y']"
   ]
  },
  {
   "cell_type": "code",
   "execution_count": 8,
   "id": "59f4c08e-bb5b-4cbc-b68b-a3dede09fc44",
   "metadata": {},
   "outputs": [],
   "source": [
    "# Question 1"
   ]
  },
  {
   "cell_type": "code",
   "execution_count": 9,
   "id": "b1cae6c3-edce-45ec-9f9f-f56de87dc652",
   "metadata": {},
   "outputs": [],
   "source": [
    "from sklearn.metrics import roc_auc_score"
   ]
  },
  {
   "cell_type": "code",
   "execution_count": 10,
   "id": "924e6f37-8346-4928-a695-82f7720077f7",
   "metadata": {},
   "outputs": [
    {
     "name": "stdout",
     "output_type": "stream",
     "text": [
      "balance :\t 0.5888313805382317\n",
      "day :\t 0.525957882383908\n",
      "duration :\t 0.8147002759670778\n",
      "previous :\t 0.5985653242764153\n"
     ]
    }
   ],
   "source": [
    "features = [\"balance\", \"day\", \"duration\", \"previous\"]\n",
    "for feature in features:\n",
    "    score = roc_auc_score(y_train, df_train[feature])\n",
    "    if score < 0.5:\n",
    "        score = roc_auc_score(y_train, -df_train[feature])\n",
    "    print(feature, \":\\t\" , score)"
   ]
  },
  {
   "cell_type": "code",
   "execution_count": 11,
   "id": "1b9b1727-3c96-4f06-95ca-058036e7e2b4",
   "metadata": {},
   "outputs": [],
   "source": [
    "# Question 2"
   ]
  },
  {
   "cell_type": "code",
   "execution_count": 12,
   "id": "062ee7fb-40cd-4435-9ab6-e9449b28f788",
   "metadata": {},
   "outputs": [],
   "source": [
    "from sklearn.feature_extraction import DictVectorizer\n",
    "from sklearn.linear_model import LogisticRegression"
   ]
  },
  {
   "cell_type": "code",
   "execution_count": 13,
   "id": "b8536a4a-0385-4784-ba1c-1344a12ac622",
   "metadata": {},
   "outputs": [],
   "source": [
    "def train(df_train, y_train):\n",
    "    dicts = df_train.to_dict(orient='records')\n",
    "\n",
    "    dv = DictVectorizer()\n",
    "    X_train = dv.fit_transform(dicts)\n",
    "\n",
    "    model = LogisticRegression(solver='liblinear', C=1.0, max_iter=1000)\n",
    "    model.fit(X_train, y_train)\n",
    "    \n",
    "    return dv, model"
   ]
  },
  {
   "cell_type": "code",
   "execution_count": 14,
   "id": "6c471bc9-6115-4393-9609-6c3e1ec8d970",
   "metadata": {},
   "outputs": [],
   "source": [
    "def predict(df, dv, model):\n",
    "    dicts = df.to_dict(orient='records')\n",
    "\n",
    "    X = dv.transform(dicts)\n",
    "    y_pred = model.predict_proba(X)[:, 1]\n",
    "\n",
    "    return y_pred"
   ]
  },
  {
   "cell_type": "code",
   "execution_count": 15,
   "id": "81cbebcf-1291-4df4-a073-39d5f7e7163a",
   "metadata": {},
   "outputs": [
    {
     "data": {
      "text/plain": [
       "0.9003"
      ]
     },
     "execution_count": 15,
     "metadata": {},
     "output_type": "execute_result"
    }
   ],
   "source": [
    "dv, model = train(df_train, y_train)\n",
    "y_pred = predict(df_val, dv, model)\n",
    "round(roc_auc_score(y_val, y_pred).item(), 4)"
   ]
  },
  {
   "cell_type": "code",
   "execution_count": 16,
   "id": "7ec25dfd-4550-4f3a-8208-19c763412850",
   "metadata": {},
   "outputs": [],
   "source": [
    "# Question 3"
   ]
  },
  {
   "cell_type": "code",
   "execution_count": 17,
   "id": "4938c521-2c8f-4b0e-baa9-4a884b6e1df5",
   "metadata": {},
   "outputs": [],
   "source": [
    "import numpy as np\n",
    "from sklearn.metrics import precision_score, recall_score\n",
    "import matplotlib.pyplot as plt"
   ]
  },
  {
   "cell_type": "code",
   "execution_count": 18,
   "id": "568799b3-a4d3-4390-b801-40877540220d",
   "metadata": {},
   "outputs": [],
   "source": [
    "scores = []\n",
    "\n",
    "thresholds = np.linspace(0, 1, 101)\n",
    "\n",
    "for threshold in thresholds:\n",
    "    precision = precision_score(y_val, y_pred > threshold, zero_division=np.nan)\n",
    "    recall = recall_score(y_val, y_pred > threshold, zero_division=np.nan)\n",
    "    scores.append((threshold, precision, recall))\n",
    "\n",
    "\n",
    "columns = [\"threshold\", \"precision\", \"recall\"]\n",
    "df_scores = pd.DataFrame(scores, columns=columns)"
   ]
  },
  {
   "cell_type": "code",
   "execution_count": 19,
   "id": "f426e445-360e-4a2f-b6fd-188889db62e3",
   "metadata": {},
   "outputs": [
    {
     "data": {
      "text/plain": [
       "<matplotlib.legend.Legend at 0x7fe472c394f0>"
      ]
     },
     "execution_count": 19,
     "metadata": {},
     "output_type": "execute_result"
    },
    {
     "data": {
      "image/png": "[encoded data removed]",
      "text/plain": [
       "<Figure size 640x480 with 1 Axes>"
      ]
     },
     "metadata": {},
     "output_type": "display_data"
    }
   ],
   "source": [
    "plt.plot(df_scores.threshold, df_scores.precision, label='precision')\n",
    "plt.plot(df_scores.threshold, df_scores.recall, label='recall')\n",
    "plt.legend()"
   ]
  },
  {
   "cell_type": "code",
   "execution_count": 20,
   "id": "55949b74-08a1-444f-acc3-3001fd799f70",
   "metadata": {},
   "outputs": [
    {
     "data": {
      "text/html": [
       "<div>\n",
       "<style scoped>\n",
       "    .dataframe tbody tr th:only-of-type {\n",
       "        vertical-align: middle;\n",
       "    }\n",
       "\n",
       "    .dataframe tbody tr th {\n",
       "        vertical-align: top;\n",
       "    }\n",
       "\n",
       "    .dataframe thead th {\n",
       "        text-align: right;\n",
       "    }\n",
       "</style>\n",
       "<table border=\"1\" class=\"dataframe\">\n",
       "  <thead>\n",
       "    <tr style=\"text-align: right;\">\n",
       "      <th></th>\n",
       "      <th>threshold</th>\n",
       "      <th>precision</th>\n",
       "      <th>recall</th>\n",
       "    </tr>\n",
       "  </thead>\n",
       "  <tbody>\n",
       "    <tr>\n",
       "      <th>26</th>\n",
       "      <td>0.26</td>\n",
       "      <td>0.553078</td>\n",
       "      <td>0.564663</td>\n",
       "    </tr>\n",
       "    <tr>\n",
       "      <th>27</th>\n",
       "      <td>0.27</td>\n",
       "      <td>0.562327</td>\n",
       "      <td>0.554645</td>\n",
       "    </tr>\n",
       "  </tbody>\n",
       "</table>\n",
       "</div>"
      ],
      "text/plain": [
       "    threshold  precision    recall\n",
       "26       0.26   0.553078  0.564663\n",
       "27       0.27   0.562327  0.554645"
      ]
     },
     "execution_count": 20,
     "metadata": {},
     "output_type": "execute_result"
    }
   ],
   "source": [
    "df_scores[(df_scores.threshold == 0.26) | (df_scores.threshold == 0.27)]"
   ]
  },
  {
   "cell_type": "code",
   "execution_count": 21,
   "id": "1b873c71-64de-4cf7-9ba0-09430dae3644",
   "metadata": {},
   "outputs": [],
   "source": [
    "# Question 4"
   ]
  },
  {
   "cell_type": "code",
   "execution_count": 22,
   "id": "666d847f-b26a-4885-bf7f-afb1a152d49a",
   "metadata": {},
   "outputs": [],
   "source": [
    "from sklearn.metrics import f1_score"
   ]
  },
  {
   "cell_type": "code",
   "execution_count": 23,
   "id": "9dd91724-9726-47c9-8bde-6a444e2fedd5",
   "metadata": {},
   "outputs": [],
   "source": [
    "f1_scores = []\n",
    "\n",
    "for threshold in thresholds:\n",
    "    f1 = f1_score(y_val, y_pred > threshold, zero_division=np.nan)\n",
    "    f1_scores.append(f1)\n",
    "\n",
    "df_scores[\"f1\"] = f1_scores"
   ]
  },
  {
   "cell_type": "code",
   "execution_count": 24,
   "id": "aec4ebc6-9dbd-492f-8273-ee40f02a4636",
   "metadata": {},
   "outputs": [
    {
     "data": {
      "text/plain": [
       "threshold    0.230000\n",
       "precision    0.536488\n",
       "recall       0.609290\n",
       "f1           0.570576\n",
       "Name: 23, dtype: float64"
      ]
     },
     "execution_count": 24,
     "metadata": {},
     "output_type": "execute_result"
    }
   ],
   "source": [
    "df_scores.loc[df_scores['f1'].idxmax()]"
   ]
  },
  {
   "cell_type": "code",
   "execution_count": 25,
   "id": "e3851af8-a5b5-42c4-bcb8-e81facfa54e4",
   "metadata": {},
   "outputs": [],
   "source": [
    "# Question 5"
   ]
  },
  {
   "cell_type": "code",
   "execution_count": 26,
   "id": "3f97b65c-f020-4310-bd17-5db368e9d67a",
   "metadata": {},
   "outputs": [],
   "source": [
    "from sklearn.model_selection import KFold"
   ]
  },
  {
   "cell_type": "code",
   "execution_count": 27,
   "id": "9be3a906-8d7d-49cb-9b44-4779849ff514",
   "metadata": {},
   "outputs": [
    {
     "data": {
      "text/plain": [
       "0.006"
      ]
     },
     "execution_count": 27,
     "metadata": {},
     "output_type": "execute_result"
    }
   ],
   "source": [
    "kfold = KFold(n_splits=5, shuffle=True, random_state=1)\n",
    "\n",
    "scores = []\n",
    "\n",
    "for train_idx, val_idx in kfold.split(df_full_train):\n",
    "    df_train = df_full_train.iloc[train_idx]\n",
    "    df_val = df_full_train.iloc[val_idx]\n",
    "\n",
    "    y_train = df_train.y.values\n",
    "    y_val = df_val.y.values\n",
    "\n",
    "    del df_train['y']\n",
    "    del df_val['y']\n",
    "\n",
    "    dv, model = train(df_train, y_train)\n",
    "    y_pred = predict(df_val, dv, model)\n",
    "\n",
    "    auc = roc_auc_score(y_val, y_pred)\n",
    "    scores.append(auc)\n",
    "\n",
    "round(np.std(scores).item(), 3)"
   ]
  },
  {
   "cell_type": "code",
   "execution_count": 28,
   "id": "02d5691e-200e-4d37-93a2-8268d883f820",
   "metadata": {},
   "outputs": [],
   "source": [
    "# Question 6"
   ]
  },
  {
   "cell_type": "code",
   "execution_count": 29,
   "id": "7ad0e5ee-f84f-4592-a8df-afe4a5e44aa9",
   "metadata": {},
   "outputs": [],
   "source": [
    "def train(df_train, y_train, C):\n",
    "    dicts = df_train.to_dict(orient='records')\n",
    "\n",
    "    dv = DictVectorizer()\n",
    "    X_train = dv.fit_transform(dicts)\n",
    "\n",
    "    model = LogisticRegression(solver='liblinear', C=C, max_iter=1000)\n",
    "    model.fit(X_train, y_train)\n",
    "    \n",
    "    return dv, model"
   ]
  },
  {
   "cell_type": "code",
   "execution_count": 30,
   "id": "a9183921-2a33-49e7-a20a-a5b7d182acd9",
   "metadata": {},
   "outputs": [
    {
     "name": "stdout",
     "output_type": "stream",
     "text": [
      "1e-06 :\t 0.701  +-  0.009\n",
      "0.001 :\t 0.861  +-  0.007\n",
      "1 :\t 0.906  +-  0.006\n"
     ]
    }
   ],
   "source": [
    "for C in [0.000001, 0.001, 1]:\n",
    "    kfold = KFold(n_splits=5, shuffle=True, random_state=1)\n",
    "    scores = []\n",
    "\n",
    "    for train_idx, val_idx in kfold.split(df_full_train):\n",
    "        df_train = df_full_train.iloc[train_idx]\n",
    "        df_val = df_full_train.iloc[val_idx]\n",
    "    \n",
    "        y_train = df_train.y.values\n",
    "        y_val = df_val.y.values\n",
    "    \n",
    "        del df_train['y']\n",
    "        del df_val['y']\n",
    "    \n",
    "        dv, model = train(df_train, y_train, C)\n",
    "        y_pred = predict(df_val, dv, model)\n",
    "    \n",
    "        auc = roc_auc_score(y_val, y_pred)\n",
    "        scores.append(auc)\n",
    "    print(C, \":\\t\", round(np.mean(scores), 3), \" +- \",  round(np.std(scores), 3))"
   ]
  }
 ],
 "metadata": {
  "kernelspec": {
   "display_name": "Python 3 (ipykernel)",
   "language": "python",
   "name": "python3"
  },
  "language_info": {
   "codemirror_mode": {
    "name": "ipython",
    "version": 3
   },
   "file_extension": ".py",
   "mimetype": "text/x-python",
   "name": "python",
   "nbconvert_exporter": "python",
   "pygments_lexer": "ipython3",
   "version": "3.12.1"
  }
 },
 "nbformat": 4,
 "nbformat_minor": 5
}
